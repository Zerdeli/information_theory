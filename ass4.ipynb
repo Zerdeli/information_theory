{
 "cells": [
  {
   "cell_type": "code",
   "execution_count": 1,
   "metadata": {},
   "outputs": [],
   "source": [
    "import math"
   ]
  },
  {
   "cell_type": "code",
   "execution_count": 2,
   "metadata": {},
   "outputs": [
    {
     "data": {
      "text/plain": [
       "{'Z': 1,\n",
       " 'e': 2,\n",
       " 'r': 1,\n",
       " 'd': 1,\n",
       " 'space': 3,\n",
       " 'A': 1,\n",
       " 'l': 1,\n",
       " 'i': 1,\n",
       " 'y': 1,\n",
       " 'a': 1,\n",
       " 'new_line': 1,\n",
       " 'B': 1,\n",
       " 'D': 1,\n",
       " '-': 1,\n",
       " '1': 1,\n",
       " '9': 1,\n",
       " '0': 1,\n",
       " '2': 1}"
      ]
     },
     "execution_count": 2,
     "metadata": {},
     "output_type": "execute_result"
    }
   ],
   "source": [
    "count = dict()\n",
    "f = open(\"ass2.txt\", \"r\").read()\n",
    "for x in list(f):\n",
    "    if x == ' ':\n",
    "        x = 'space'\n",
    "    if x == '\\n':\n",
    "        x = 'new_line'\n",
    "    if x in count.keys():\n",
    "        count[x] += 1\n",
    "    else:\n",
    "        count[x] = 1\n",
    "count\n",
    "# count symbols/letters"
   ]
  },
  {
   "cell_type": "code",
   "execution_count": 3,
   "metadata": {},
   "outputs": [],
   "source": [
    "count = dict(sorted(count.items(), key=lambda item: item[1])) #sort dictionary by probability"
   ]
  },
  {
   "cell_type": "code",
   "execution_count": 4,
   "metadata": {},
   "outputs": [
    {
     "name": "stdout",
     "output_type": "stream",
     "text": [
      "Z - 0.048\n",
      "r - 0.048\n",
      "d - 0.048\n",
      "A - 0.048\n",
      "l - 0.048\n",
      "i - 0.048\n",
      "y - 0.048\n",
      "a - 0.048\n",
      "new_line - 0.048\n",
      "B - 0.048\n",
      "D - 0.048\n",
      "- - 0.048\n",
      "1 - 0.048\n",
      "9 - 0.048\n",
      "0 - 0.048\n",
      "2 - 0.048\n",
      "e - 0.095\n",
      "space - 0.143\n"
     ]
    }
   ],
   "source": [
    "for x in count.keys():\n",
    "    print(x + \" - \" + str(round(count[x] / len(f), 3)))"
   ]
  },
  {
   "cell_type": "code",
   "execution_count": 5,
   "metadata": {},
   "outputs": [],
   "source": [
    "class Node: #  for each letter creating node\n",
    "    letter = \"\"\n",
    "    num = 0\n",
    "    code = \"\"\n",
    "    left = None\n",
    "    right = None"
   ]
  },
  {
   "cell_type": "code",
   "execution_count": 6,
   "metadata": {},
   "outputs": [
    {
     "data": {
      "text/plain": [
       "[<__main__.Node at 0x7fc932de7400>,\n",
       " <__main__.Node at 0x7fc932de7430>,\n",
       " <__main__.Node at 0x7fc932de7520>,\n",
       " <__main__.Node at 0x7fc932de7670>,\n",
       " <__main__.Node at 0x7fc932de7700>,\n",
       " <__main__.Node at 0x7fc932de7760>,\n",
       " <__main__.Node at 0x7fc932de77c0>,\n",
       " <__main__.Node at 0x7fc932de7850>,\n",
       " <__main__.Node at 0x7fc932de7820>,\n",
       " <__main__.Node at 0x7fc932de78b0>,\n",
       " <__main__.Node at 0x7fc932de7910>,\n",
       " <__main__.Node at 0x7fc932de7970>,\n",
       " <__main__.Node at 0x7fc932de79d0>,\n",
       " <__main__.Node at 0x7fc932de7a30>,\n",
       " <__main__.Node at 0x7fc932de7a90>,\n",
       " <__main__.Node at 0x7fc932de7ac0>,\n",
       " <__main__.Node at 0x7fc932de7b50>,\n",
       " <__main__.Node at 0x7fc932de7bb0>]"
      ]
     },
     "execution_count": 6,
     "metadata": {},
     "output_type": "execute_result"
    }
   ],
   "source": [
    "arr = []\n",
    "for x in count.keys():\n",
    "    temp = Node()\n",
    "    temp.letter = x\n",
    "    temp.num = count[x]\n",
    "    arr.append(temp)\n",
    "arr"
   ]
  },
  {
   "cell_type": "code",
   "execution_count": 7,
   "metadata": {},
   "outputs": [],
   "source": [
    "def sortingFunciton(arr):\n",
    "    for x in range(len(arr)):\n",
    "        for y in range(x):\n",
    "            if arr[x].num > arr[y].num:\n",
    "                temp = arr[x]\n",
    "                arr[x] = arr[y]\n",
    "                arr[y] = temp\n",
    "    return arr"
   ]
  },
  {
   "cell_type": "code",
   "execution_count": 8,
   "metadata": {},
   "outputs": [
    {
     "name": "stdout",
     "output_type": "stream",
     "text": [
      "space - 3\n",
      "e - 2\n",
      "d - 1\n",
      "A - 1\n",
      "l - 1\n",
      "i - 1\n",
      "y - 1\n",
      "a - 1\n",
      "new_line - 1\n",
      "B - 1\n",
      "D - 1\n",
      "- - 1\n",
      "1 - 1\n",
      "9 - 1\n",
      "0 - 1\n",
      "2 - 1\n",
      "Z - 1\n",
      "r - 1\n"
     ]
    }
   ],
   "source": [
    "arr = sortingFunciton(arr)\n",
    "for x in arr:\n",
    "    print(x.letter + \" - \" + str(x.num))"
   ]
  },
  {
   "cell_type": "code",
   "execution_count": 9,
   "metadata": {},
   "outputs": [
    {
     "name": "stdout",
     "output_type": "stream",
     "text": [
      "Node1: Z, r -  sum 0.095\n",
      "Node2: 2, d -  sum 0.095\n",
      "Node3: 0, A -  sum 0.095\n",
      "Node4: 9, l -  sum 0.095\n",
      "Node5: 1, i -  sum 0.095\n",
      "Node6: -, y -  sum 0.095\n",
      "Node7: D, a -  sum 0.095\n",
      "Node8: B, new_line -  sum 0.095\n",
      "Node9: Node7, Node8 -  sum 0.19\n",
      "Node10: Node6, e -  sum 0.19\n",
      "Node11: Node5, Node1 -  sum 0.19\n",
      "Node12: Node4, Node2 -  sum 0.19\n",
      "Node13: space, Node3 -  sum 0.238\n",
      "Node14: Node12, Node9 -  sum 0.381\n",
      "Node15: Node11, Node10 -  sum 0.381\n",
      "Node16: Node15, Node13 -  sum 0.619\n",
      "Node17: Node16, Node14 -  sum 1.0\n"
     ]
    },
    {
     "data": {
      "text/plain": [
       "'Node17'"
      ]
     },
     "execution_count": 9,
     "metadata": {},
     "output_type": "execute_result"
    }
   ],
   "source": [
    "counter = 1 \n",
    "while len(arr) != 1:\n",
    "    temp = Node()\n",
    "    temp.letter = \"Node\" + str(counter)\n",
    "    temp.num = arr[len(arr) - 1].num + arr[len(arr) - 2].num\n",
    "    temp.left = arr[len(arr) - 2]\n",
    "    temp.right = arr[len(arr) - 1]\n",
    "    \n",
    "    tempArr = []\n",
    "    print(temp.letter + \": \" + temp.left.letter + \", \" + temp.right.letter + \" - \" + \" sum \" + str(round(temp.num/len(f),3)))\n",
    "    \n",
    "    for x in range(len(arr) - 2):\n",
    "        tempArr.append(arr[x])\n",
    "    tempArr.append(temp)\n",
    "    arr = sortingFunciton(tempArr)\n",
    "    counter += 1\n",
    "    \n",
    "tempArr[0].letter        "
   ]
  },
  {
   "cell_type": "code",
   "execution_count": 10,
   "metadata": {},
   "outputs": [],
   "source": [
    "def tree(node, arr, s):\n",
    "    if node == None:\n",
    "        return arr\n",
    "    tree(node.left, arr, s + \"0\")\n",
    "    node.code = s\n",
    "    arr.append(node)\n",
    "    tree(node.right, arr, s + \"1\")\n",
    "    return arr"
   ]
  },
  {
   "cell_type": "code",
   "execution_count": 11,
   "metadata": {},
   "outputs": [
    {
     "data": {
      "text/plain": [
       "[<__main__.Node at 0x7fc932de79d0>,\n",
       " <__main__.Node at 0x7fc932de7eb0>,\n",
       " <__main__.Node at 0x7fc932de7760>,\n",
       " <__main__.Node at 0x7fc932df6610>,\n",
       " <__main__.Node at 0x7fc932de7400>,\n",
       " <__main__.Node at 0x7fc932d8ad60>,\n",
       " <__main__.Node at 0x7fc932de7430>,\n",
       " <__main__.Node at 0x7fc932df6a90>,\n",
       " <__main__.Node at 0x7fc932de7970>,\n",
       " <__main__.Node at 0x7fc932d8af70>,\n",
       " <__main__.Node at 0x7fc932de77c0>,\n",
       " <__main__.Node at 0x7fc932df64f0>,\n",
       " <__main__.Node at 0x7fc932de7b50>,\n",
       " <__main__.Node at 0x7fc932df6bb0>,\n",
       " <__main__.Node at 0x7fc932de7bb0>,\n",
       " <__main__.Node at 0x7fc932df6850>,\n",
       " <__main__.Node at 0x7fc932de7a90>,\n",
       " <__main__.Node at 0x7fc932d8abb0>,\n",
       " <__main__.Node at 0x7fc932de7670>,\n",
       " <__main__.Node at 0x7fc932df6cd0>,\n",
       " <__main__.Node at 0x7fc932de7a30>,\n",
       " <__main__.Node at 0x7fc932df6250>,\n",
       " <__main__.Node at 0x7fc932de7700>,\n",
       " <__main__.Node at 0x7fc932df6730>,\n",
       " <__main__.Node at 0x7fc932de7ac0>,\n",
       " <__main__.Node at 0x7fc932de7610>,\n",
       " <__main__.Node at 0x7fc932de7520>,\n",
       " <__main__.Node at 0x7fc932df6970>,\n",
       " <__main__.Node at 0x7fc932de7910>,\n",
       " <__main__.Node at 0x7fc932d8a640>,\n",
       " <__main__.Node at 0x7fc932de7850>,\n",
       " <__main__.Node at 0x7fc932df63d0>,\n",
       " <__main__.Node at 0x7fc932de78b0>,\n",
       " <__main__.Node at 0x7fc932df61f0>,\n",
       " <__main__.Node at 0x7fc932de7820>]"
      ]
     },
     "execution_count": 11,
     "metadata": {},
     "output_type": "execute_result"
    }
   ],
   "source": [
    "tarr = []\n",
    "newArr = tree(tempArr[0], tarr, \"\")\n",
    "newArr"
   ]
  },
  {
   "cell_type": "code",
   "execution_count": 12,
   "metadata": {},
   "outputs": [],
   "source": [
    "to_delete = []\n",
    "for x in range(len(newArr)):\n",
    "    if \"Node\" in newArr[x].letter:\n",
    "        to_delete.append(x)\n",
    "for x in range(len(to_delete)):\n",
    "    for y in range(x):\n",
    "        if to_delete[x] > to_delete[y]:\n",
    "            temp = to_delete[x]\n",
    "            to_delete[x] = to_delete[y]\n",
    "            to_delete[y] = temp\n",
    "        "
   ]
  },
  {
   "cell_type": "code",
   "execution_count": 13,
   "metadata": {},
   "outputs": [],
   "source": [
    "for x in to_delete:\n",
    "    newArr.remove(newArr[x])"
   ]
  },
  {
   "cell_type": "code",
   "execution_count": 14,
   "metadata": {},
   "outputs": [
    {
     "data": {
      "text/plain": [
       "[<__main__.Node at 0x7fc932de79d0>,\n",
       " <__main__.Node at 0x7fc932de7760>,\n",
       " <__main__.Node at 0x7fc932de7400>,\n",
       " <__main__.Node at 0x7fc932de7430>,\n",
       " <__main__.Node at 0x7fc932de7970>,\n",
       " <__main__.Node at 0x7fc932de77c0>,\n",
       " <__main__.Node at 0x7fc932de7b50>,\n",
       " <__main__.Node at 0x7fc932de7bb0>,\n",
       " <__main__.Node at 0x7fc932de7a90>,\n",
       " <__main__.Node at 0x7fc932de7670>,\n",
       " <__main__.Node at 0x7fc932de7a30>,\n",
       " <__main__.Node at 0x7fc932de7700>,\n",
       " <__main__.Node at 0x7fc932de7ac0>,\n",
       " <__main__.Node at 0x7fc932de7520>,\n",
       " <__main__.Node at 0x7fc932de7910>,\n",
       " <__main__.Node at 0x7fc932de7850>,\n",
       " <__main__.Node at 0x7fc932de78b0>,\n",
       " <__main__.Node at 0x7fc932de7820>]"
      ]
     },
     "execution_count": 14,
     "metadata": {},
     "output_type": "execute_result"
    }
   ],
   "source": [
    "newArr"
   ]
  },
  {
   "cell_type": "code",
   "execution_count": 15,
   "metadata": {},
   "outputs": [
    {
     "name": "stdout",
     "output_type": "stream",
     "text": [
      "1 - 0.048 - 00000\n",
      "i - 0.048 - 00001\n",
      "Z - 0.048 - 00010\n",
      "r - 0.048 - 00011\n",
      "- - 0.048 - 00100\n",
      "y - 0.048 - 00101\n",
      "e - 0.095 - 0011\n",
      "space - 0.143 - 010\n",
      "0 - 0.048 - 0110\n",
      "A - 0.048 - 0111\n",
      "9 - 0.048 - 1000\n",
      "l - 0.048 - 1001\n",
      "2 - 0.048 - 1010\n",
      "d - 0.048 - 1011\n",
      "D - 0.048 - 1100\n",
      "a - 0.048 - 1101\n",
      "B - 0.048 - 1110\n",
      "new_line - 0.048 - 1111\n"
     ]
    }
   ],
   "source": [
    "for x in newArr:\n",
    "    print(x.letter + \" - \" + str(round(x.num / len(f) , 3)) + \" - \" + x.code)"
   ]
  },
  {
   "cell_type": "code",
   "execution_count": 16,
   "metadata": {},
   "outputs": [],
   "source": [
    "def finder(nodes, letter):\n",
    "    for x in nodes:\n",
    "        if letter == x.letter:\n",
    "            return x.code"
   ]
  },
  {
   "cell_type": "code",
   "execution_count": 17,
   "metadata": {},
   "outputs": [
    {
     "data": {
      "text/plain": [
       "'000100011000111011001101001111001000010010111011111111011000100010001000000100001101010'"
      ]
     },
     "execution_count": 17,
     "metadata": {},
     "output_type": "execute_result"
    }
   ],
   "source": [
    "newstr = \"\"\n",
    "for x in f:\n",
    "    if x == ' ':\n",
    "        newstr += finder(newArr, 'space')\n",
    "        continue\n",
    "    if x == '\\n':\n",
    "        newstr += finder(newArr, 'new_line')\n",
    "        continue\n",
    "    newstr += finder(newArr, x)\n",
    "newstr"
   ]
  },
  {
   "cell_type": "code",
   "execution_count": 18,
   "metadata": {},
   "outputs": [],
   "source": [
    "text_file = open(\"ass3.txt\", \"w\")\n",
    "n = text_file.write(newstr)\n",
    "text_file.close()"
   ]
  },
  {
   "cell_type": "code",
   "execution_count": 19,
   "metadata": {},
   "outputs": [
    {
     "data": {
      "text/plain": [
       "'000100011000111011001101001111001000010010111011111111011000100010001000000100001101010'"
      ]
     },
     "execution_count": 19,
     "metadata": {},
     "output_type": "execute_result"
    }
   ],
   "source": [
    "text_file = open(\"ass3.txt\", \"r\")\n",
    "text_file.read()"
   ]
  },
  {
   "cell_type": "code",
   "execution_count": 20,
   "metadata": {},
   "outputs": [
    {
     "name": "stdout",
     "output_type": "stream",
     "text": [
      "Number of bits in the original text: 168 bits\n",
      "Number of bits in the compressed text: 87 bits\n",
      "Compression ratio: 1.9310344827586208\n",
      "Average code length: 4.142857142857143\n"
     ]
    }
   ],
   "source": [
    "print(\"Number of bits in the original text: \" + str(len(f) * 8) + \" bits\")\n",
    "print(\"Number of bits in the compressed text: \" + str(len(newstr)) + \" bits\")\n",
    "print(\"Compression ratio: \" + str(len(f) * 8 / len(newstr)))\n",
    "print(\"Average code length: \" + str(len(newstr) / len(f)))"
   ]
  },
  {
   "cell_type": "code",
   "execution_count": 21,
   "metadata": {},
   "outputs": [],
   "source": [
    "class Node: #  for each letter creating node\n",
    "    def __init__(self, letter, num, code, left, right):\n",
    "        self.letter = \"\"\n",
    "        self.num = 0\n",
    "        self.code = \"\"\n",
    "        self.left = None\n",
    "        self.right = None"
   ]
  },
  {
   "cell_type": "code",
   "execution_count": 22,
   "metadata": {},
   "outputs": [],
   "source": [
    "def decoding(tempArr, newstr):\n",
    "    t = tempArr\n",
    "    empty=[]\n",
    "    for symbol in newstr:\n",
    "        symbol=int(symbol)\n",
    "        \n",
    "        if symbol==1:            \n",
    "            t=t.right\n",
    "        elif symbol==0:\n",
    "            t = t.left\n",
    "        if t.right == None and t.left == None:\n",
    "            if t.letter == 'new_line':\n",
    "                empty.append('\\n')\n",
    "            elif t.letter =='space':\n",
    "                empty.append(' ')\n",
    "            else:\n",
    "                empty.append(t.letter)\n",
    "            t = tempArr\n",
    "    newstr=''.join(empty)\n",
    "    print(newstr)"
   ]
  },
  {
   "cell_type": "code",
   "execution_count": 23,
   "metadata": {},
   "outputs": [
    {
     "name": "stdout",
     "output_type": "stream",
     "text": [
      "Zerde Aliya\n",
      "BD - 1902\n"
     ]
    }
   ],
   "source": [
    "result = decoding(tempArr[0], newstr)\n",
    "result"
   ]
  },
  {
   "cell_type": "code",
   "execution_count": 33,
   "metadata": {},
   "outputs": [
    {
     "name": "stdout",
     "output_type": "stream",
     "text": [
      "Decoded text: \n",
      "Zerde Aliya\n",
      "BD - 1902\n",
      "Original text: \n",
      "Zerde Aliya\n",
      "BD - 1902\n",
      "The original text and decoded text match.\n"
     ]
    }
   ],
   "source": [
    "print('Decoded text: ')\n",
    "decoding(tempArr[0], newstr)\n",
    "print('Original text: ')\n",
    "print(f)\n",
    "print('The original text and decoded text match.')"
   ]
  }
 ],
 "metadata": {
  "kernelspec": {
   "display_name": "Python 3",
   "language": "python",
   "name": "python3"
  },
  "language_info": {
   "codemirror_mode": {
    "name": "ipython",
    "version": 3
   },
   "file_extension": ".py",
   "mimetype": "text/x-python",
   "name": "python",
   "nbconvert_exporter": "python",
   "pygments_lexer": "ipython3",
   "version": "3.8.5"
  }
 },
 "nbformat": 4,
 "nbformat_minor": 4
}
